{
 "cells": [
  {
   "cell_type": "markdown",
   "id": "e2576575",
   "metadata": {},
   "source": [
    "# EDA of InstaCart dataset"
   ]
  },
  {
   "cell_type": "code",
   "execution_count": 1,
   "id": "fbf1adab",
   "metadata": {},
   "outputs": [],
   "source": [
    "# Importing all the necessary libraries.\n",
    "import pandas as pd\n",
    "from matplotlib import pyplot as plt\n",
    "import plotly.express as px\n",
    "import numpy as np"
   ]
  },
  {
   "cell_type": "code",
   "execution_count": 2,
   "id": "ad36396d",
   "metadata": {
    "scrolled": true
   },
   "outputs": [],
   "source": [
    "df_orders = pd.read_csv('../sprint_7/instacart_orders.csv', sep= ';')\n",
    "df_products = pd.read_csv('../sprint_7/products.csv', sep= ';')\n",
    "df_aisles = pd.read_csv('../sprint_7/aisles.csv', sep= ';')\n",
    "df_departments = pd.read_csv('../sprint_7/departments.csv', sep= ';')\n",
    "df_order_products = pd.read_csv('../sprint_7/order_products.csv', sep= ';')"
   ]
  },
  {
   "cell_type": "code",
   "execution_count": 3,
   "id": "ad6a1efa",
   "metadata": {},
   "outputs": [],
   "source": [
    "# List of all data frame variables to use in a for loop.\n",
    "df_list = [df_orders, df_products, df_aisles, df_departments, df_order_products]\n",
    "\n",
    "# Assigning names of the data frames to variables in order to call in a for loop.\n",
    "df_orders.name = 'df_orders'\n",
    "df_products.name = 'df_products'\n",
    "df_aisles.name = 'df_aisles'\n",
    "df_departments.name = 'df_departments'\n",
    "df_order_products.name = 'df_order_products'"
   ]
  },
  {
   "cell_type": "code",
   "execution_count": 4,
   "id": "6b9f00d2",
   "metadata": {
    "scrolled": true
   },
   "outputs": [
    {
     "name": "stdout",
     "output_type": "stream",
     "text": [
      "df_orders\n"
     ]
    },
    {
     "data": {
      "text/html": [
       "<div>\n",
       "<style scoped>\n",
       "    .dataframe tbody tr th:only-of-type {\n",
       "        vertical-align: middle;\n",
       "    }\n",
       "\n",
       "    .dataframe tbody tr th {\n",
       "        vertical-align: top;\n",
       "    }\n",
       "\n",
       "    .dataframe thead th {\n",
       "        text-align: right;\n",
       "    }\n",
       "</style>\n",
       "<table border=\"1\" class=\"dataframe\">\n",
       "  <thead>\n",
       "    <tr style=\"text-align: right;\">\n",
       "      <th></th>\n",
       "      <th>order_id</th>\n",
       "      <th>user_id</th>\n",
       "      <th>order_number</th>\n",
       "      <th>order_dow</th>\n",
       "      <th>order_hour_of_day</th>\n",
       "      <th>days_since_prior_order</th>\n",
       "    </tr>\n",
       "  </thead>\n",
       "  <tbody>\n",
       "    <tr>\n",
       "      <th>0</th>\n",
       "      <td>1515936</td>\n",
       "      <td>183418</td>\n",
       "      <td>11</td>\n",
       "      <td>6</td>\n",
       "      <td>13</td>\n",
       "      <td>30.0</td>\n",
       "    </tr>\n",
       "    <tr>\n",
       "      <th>1</th>\n",
       "      <td>1690866</td>\n",
       "      <td>163593</td>\n",
       "      <td>5</td>\n",
       "      <td>5</td>\n",
       "      <td>12</td>\n",
       "      <td>9.0</td>\n",
       "    </tr>\n",
       "    <tr>\n",
       "      <th>2</th>\n",
       "      <td>1454967</td>\n",
       "      <td>39980</td>\n",
       "      <td>4</td>\n",
       "      <td>5</td>\n",
       "      <td>19</td>\n",
       "      <td>2.0</td>\n",
       "    </tr>\n",
       "    <tr>\n",
       "      <th>3</th>\n",
       "      <td>1768857</td>\n",
       "      <td>82516</td>\n",
       "      <td>56</td>\n",
       "      <td>0</td>\n",
       "      <td>20</td>\n",
       "      <td>10.0</td>\n",
       "    </tr>\n",
       "    <tr>\n",
       "      <th>4</th>\n",
       "      <td>3007858</td>\n",
       "      <td>196724</td>\n",
       "      <td>2</td>\n",
       "      <td>4</td>\n",
       "      <td>12</td>\n",
       "      <td>17.0</td>\n",
       "    </tr>\n",
       "  </tbody>\n",
       "</table>\n",
       "</div>"
      ],
      "text/plain": [
       "   order_id  user_id  order_number  order_dow  order_hour_of_day  \\\n",
       "0   1515936   183418            11          6                 13   \n",
       "1   1690866   163593             5          5                 12   \n",
       "2   1454967    39980             4          5                 19   \n",
       "3   1768857    82516            56          0                 20   \n",
       "4   3007858   196724             2          4                 12   \n",
       "\n",
       "   days_since_prior_order  \n",
       "0                    30.0  \n",
       "1                     9.0  \n",
       "2                     2.0  \n",
       "3                    10.0  \n",
       "4                    17.0  "
      ]
     },
     "metadata": {},
     "output_type": "display_data"
    },
    {
     "name": "stdout",
     "output_type": "stream",
     "text": [
      "<class 'pandas.core.frame.DataFrame'>\n",
      "RangeIndex: 478967 entries, 0 to 478966\n",
      "Data columns (total 6 columns):\n",
      " #   Column                  Non-Null Count   Dtype  \n",
      "---  ------                  --------------   -----  \n",
      " 0   order_id                478967 non-null  int64  \n",
      " 1   user_id                 478967 non-null  int64  \n",
      " 2   order_number            478967 non-null  int64  \n",
      " 3   order_dow               478967 non-null  int64  \n",
      " 4   order_hour_of_day       478967 non-null  int64  \n",
      " 5   days_since_prior_order  450148 non-null  float64\n",
      "dtypes: float64(1), int64(5)\n",
      "memory usage: 21.9 MB\n",
      "None\n",
      "______________________________________________________________\n",
      "\n",
      "\n",
      "df_products\n"
     ]
    },
    {
     "data": {
      "text/html": [
       "<div>\n",
       "<style scoped>\n",
       "    .dataframe tbody tr th:only-of-type {\n",
       "        vertical-align: middle;\n",
       "    }\n",
       "\n",
       "    .dataframe tbody tr th {\n",
       "        vertical-align: top;\n",
       "    }\n",
       "\n",
       "    .dataframe thead th {\n",
       "        text-align: right;\n",
       "    }\n",
       "</style>\n",
       "<table border=\"1\" class=\"dataframe\">\n",
       "  <thead>\n",
       "    <tr style=\"text-align: right;\">\n",
       "      <th></th>\n",
       "      <th>product_id</th>\n",
       "      <th>product_name</th>\n",
       "      <th>aisle_id</th>\n",
       "      <th>department_id</th>\n",
       "    </tr>\n",
       "  </thead>\n",
       "  <tbody>\n",
       "    <tr>\n",
       "      <th>0</th>\n",
       "      <td>1</td>\n",
       "      <td>Chocolate Sandwich Cookies</td>\n",
       "      <td>61</td>\n",
       "      <td>19</td>\n",
       "    </tr>\n",
       "    <tr>\n",
       "      <th>1</th>\n",
       "      <td>2</td>\n",
       "      <td>All-Seasons Salt</td>\n",
       "      <td>104</td>\n",
       "      <td>13</td>\n",
       "    </tr>\n",
       "    <tr>\n",
       "      <th>2</th>\n",
       "      <td>3</td>\n",
       "      <td>Robust Golden Unsweetened Oolong Tea</td>\n",
       "      <td>94</td>\n",
       "      <td>7</td>\n",
       "    </tr>\n",
       "    <tr>\n",
       "      <th>3</th>\n",
       "      <td>4</td>\n",
       "      <td>Smart Ones Classic Favorites Mini Rigatoni Wit...</td>\n",
       "      <td>38</td>\n",
       "      <td>1</td>\n",
       "    </tr>\n",
       "    <tr>\n",
       "      <th>4</th>\n",
       "      <td>5</td>\n",
       "      <td>Green Chile Anytime Sauce</td>\n",
       "      <td>5</td>\n",
       "      <td>13</td>\n",
       "    </tr>\n",
       "  </tbody>\n",
       "</table>\n",
       "</div>"
      ],
      "text/plain": [
       "   product_id                                       product_name  aisle_id  \\\n",
       "0           1                         Chocolate Sandwich Cookies        61   \n",
       "1           2                                   All-Seasons Salt       104   \n",
       "2           3               Robust Golden Unsweetened Oolong Tea        94   \n",
       "3           4  Smart Ones Classic Favorites Mini Rigatoni Wit...        38   \n",
       "4           5                          Green Chile Anytime Sauce         5   \n",
       "\n",
       "   department_id  \n",
       "0             19  \n",
       "1             13  \n",
       "2              7  \n",
       "3              1  \n",
       "4             13  "
      ]
     },
     "metadata": {},
     "output_type": "display_data"
    },
    {
     "name": "stdout",
     "output_type": "stream",
     "text": [
      "<class 'pandas.core.frame.DataFrame'>\n",
      "RangeIndex: 49694 entries, 0 to 49693\n",
      "Data columns (total 4 columns):\n",
      " #   Column         Non-Null Count  Dtype \n",
      "---  ------         --------------  ----- \n",
      " 0   product_id     49694 non-null  int64 \n",
      " 1   product_name   48436 non-null  object\n",
      " 2   aisle_id       49694 non-null  int64 \n",
      " 3   department_id  49694 non-null  int64 \n",
      "dtypes: int64(3), object(1)\n",
      "memory usage: 1.5+ MB\n",
      "None\n",
      "______________________________________________________________\n",
      "\n",
      "\n",
      "df_aisles\n"
     ]
    },
    {
     "data": {
      "text/html": [
       "<div>\n",
       "<style scoped>\n",
       "    .dataframe tbody tr th:only-of-type {\n",
       "        vertical-align: middle;\n",
       "    }\n",
       "\n",
       "    .dataframe tbody tr th {\n",
       "        vertical-align: top;\n",
       "    }\n",
       "\n",
       "    .dataframe thead th {\n",
       "        text-align: right;\n",
       "    }\n",
       "</style>\n",
       "<table border=\"1\" class=\"dataframe\">\n",
       "  <thead>\n",
       "    <tr style=\"text-align: right;\">\n",
       "      <th></th>\n",
       "      <th>aisle_id</th>\n",
       "      <th>aisle</th>\n",
       "    </tr>\n",
       "  </thead>\n",
       "  <tbody>\n",
       "    <tr>\n",
       "      <th>0</th>\n",
       "      <td>1</td>\n",
       "      <td>prepared soups salads</td>\n",
       "    </tr>\n",
       "    <tr>\n",
       "      <th>1</th>\n",
       "      <td>2</td>\n",
       "      <td>specialty cheeses</td>\n",
       "    </tr>\n",
       "    <tr>\n",
       "      <th>2</th>\n",
       "      <td>3</td>\n",
       "      <td>energy granola bars</td>\n",
       "    </tr>\n",
       "    <tr>\n",
       "      <th>3</th>\n",
       "      <td>4</td>\n",
       "      <td>instant foods</td>\n",
       "    </tr>\n",
       "    <tr>\n",
       "      <th>4</th>\n",
       "      <td>5</td>\n",
       "      <td>marinades meat preparation</td>\n",
       "    </tr>\n",
       "  </tbody>\n",
       "</table>\n",
       "</div>"
      ],
      "text/plain": [
       "   aisle_id                       aisle\n",
       "0         1       prepared soups salads\n",
       "1         2           specialty cheeses\n",
       "2         3         energy granola bars\n",
       "3         4               instant foods\n",
       "4         5  marinades meat preparation"
      ]
     },
     "metadata": {},
     "output_type": "display_data"
    },
    {
     "name": "stdout",
     "output_type": "stream",
     "text": [
      "<class 'pandas.core.frame.DataFrame'>\n",
      "RangeIndex: 134 entries, 0 to 133\n",
      "Data columns (total 2 columns):\n",
      " #   Column    Non-Null Count  Dtype \n",
      "---  ------    --------------  ----- \n",
      " 0   aisle_id  134 non-null    int64 \n",
      " 1   aisle     134 non-null    object\n",
      "dtypes: int64(1), object(1)\n",
      "memory usage: 2.2+ KB\n",
      "None\n",
      "______________________________________________________________\n",
      "\n",
      "\n",
      "df_departments\n"
     ]
    },
    {
     "data": {
      "text/html": [
       "<div>\n",
       "<style scoped>\n",
       "    .dataframe tbody tr th:only-of-type {\n",
       "        vertical-align: middle;\n",
       "    }\n",
       "\n",
       "    .dataframe tbody tr th {\n",
       "        vertical-align: top;\n",
       "    }\n",
       "\n",
       "    .dataframe thead th {\n",
       "        text-align: right;\n",
       "    }\n",
       "</style>\n",
       "<table border=\"1\" class=\"dataframe\">\n",
       "  <thead>\n",
       "    <tr style=\"text-align: right;\">\n",
       "      <th></th>\n",
       "      <th>department_id</th>\n",
       "      <th>department</th>\n",
       "    </tr>\n",
       "  </thead>\n",
       "  <tbody>\n",
       "    <tr>\n",
       "      <th>0</th>\n",
       "      <td>1</td>\n",
       "      <td>frozen</td>\n",
       "    </tr>\n",
       "    <tr>\n",
       "      <th>1</th>\n",
       "      <td>2</td>\n",
       "      <td>other</td>\n",
       "    </tr>\n",
       "    <tr>\n",
       "      <th>2</th>\n",
       "      <td>3</td>\n",
       "      <td>bakery</td>\n",
       "    </tr>\n",
       "    <tr>\n",
       "      <th>3</th>\n",
       "      <td>4</td>\n",
       "      <td>produce</td>\n",
       "    </tr>\n",
       "    <tr>\n",
       "      <th>4</th>\n",
       "      <td>5</td>\n",
       "      <td>alcohol</td>\n",
       "    </tr>\n",
       "  </tbody>\n",
       "</table>\n",
       "</div>"
      ],
      "text/plain": [
       "   department_id department\n",
       "0              1     frozen\n",
       "1              2      other\n",
       "2              3     bakery\n",
       "3              4    produce\n",
       "4              5    alcohol"
      ]
     },
     "metadata": {},
     "output_type": "display_data"
    },
    {
     "name": "stdout",
     "output_type": "stream",
     "text": [
      "<class 'pandas.core.frame.DataFrame'>\n",
      "RangeIndex: 21 entries, 0 to 20\n",
      "Data columns (total 2 columns):\n",
      " #   Column         Non-Null Count  Dtype \n",
      "---  ------         --------------  ----- \n",
      " 0   department_id  21 non-null     int64 \n",
      " 1   department     21 non-null     object\n",
      "dtypes: int64(1), object(1)\n",
      "memory usage: 464.0+ bytes\n",
      "None\n",
      "______________________________________________________________\n",
      "\n",
      "\n",
      "df_order_products\n"
     ]
    },
    {
     "data": {
      "text/html": [
       "<div>\n",
       "<style scoped>\n",
       "    .dataframe tbody tr th:only-of-type {\n",
       "        vertical-align: middle;\n",
       "    }\n",
       "\n",
       "    .dataframe tbody tr th {\n",
       "        vertical-align: top;\n",
       "    }\n",
       "\n",
       "    .dataframe thead th {\n",
       "        text-align: right;\n",
       "    }\n",
       "</style>\n",
       "<table border=\"1\" class=\"dataframe\">\n",
       "  <thead>\n",
       "    <tr style=\"text-align: right;\">\n",
       "      <th></th>\n",
       "      <th>order_id</th>\n",
       "      <th>product_id</th>\n",
       "      <th>add_to_cart_order</th>\n",
       "      <th>reordered</th>\n",
       "    </tr>\n",
       "  </thead>\n",
       "  <tbody>\n",
       "    <tr>\n",
       "      <th>0</th>\n",
       "      <td>2141543</td>\n",
       "      <td>11440</td>\n",
       "      <td>17.0</td>\n",
       "      <td>0</td>\n",
       "    </tr>\n",
       "    <tr>\n",
       "      <th>1</th>\n",
       "      <td>567889</td>\n",
       "      <td>1560</td>\n",
       "      <td>1.0</td>\n",
       "      <td>1</td>\n",
       "    </tr>\n",
       "    <tr>\n",
       "      <th>2</th>\n",
       "      <td>2261212</td>\n",
       "      <td>26683</td>\n",
       "      <td>1.0</td>\n",
       "      <td>1</td>\n",
       "    </tr>\n",
       "    <tr>\n",
       "      <th>3</th>\n",
       "      <td>491251</td>\n",
       "      <td>8670</td>\n",
       "      <td>35.0</td>\n",
       "      <td>1</td>\n",
       "    </tr>\n",
       "    <tr>\n",
       "      <th>4</th>\n",
       "      <td>2571142</td>\n",
       "      <td>1940</td>\n",
       "      <td>5.0</td>\n",
       "      <td>1</td>\n",
       "    </tr>\n",
       "  </tbody>\n",
       "</table>\n",
       "</div>"
      ],
      "text/plain": [
       "   order_id  product_id  add_to_cart_order  reordered\n",
       "0   2141543       11440               17.0          0\n",
       "1    567889        1560                1.0          1\n",
       "2   2261212       26683                1.0          1\n",
       "3    491251        8670               35.0          1\n",
       "4   2571142        1940                5.0          1"
      ]
     },
     "metadata": {},
     "output_type": "display_data"
    },
    {
     "name": "stdout",
     "output_type": "stream",
     "text": [
      "<class 'pandas.core.frame.DataFrame'>\n",
      "RangeIndex: 4545007 entries, 0 to 4545006\n",
      "Data columns (total 4 columns):\n",
      " #   Column             Non-Null Count    Dtype  \n",
      "---  ------             --------------    -----  \n",
      " 0   order_id           4545007 non-null  int64  \n",
      " 1   product_id         4545007 non-null  int64  \n",
      " 2   add_to_cart_order  4544171 non-null  float64\n",
      " 3   reordered          4545007 non-null  int64  \n",
      "dtypes: float64(1), int64(3)\n",
      "memory usage: 138.7 MB\n",
      "None\n",
      "______________________________________________________________\n",
      "\n",
      "\n"
     ]
    }
   ],
   "source": [
    "# for loop to display first 5 rows, and .info() for each data frame.\n",
    "for item in df_list:\n",
    "    print(item.name) \n",
    "    display(item.head())\n",
    "    print (item.info(show_counts=True))\n",
    "    print('______________________________________________________________')\n",
    "    print()\n",
    "    print()"
   ]
  },
  {
   "cell_type": "code",
   "execution_count": 5,
   "id": "b3866944",
   "metadata": {},
   "outputs": [
    {
     "name": "stdout",
     "output_type": "stream",
     "text": [
      "The number of missing values in\n",
      "df_order['days_since_prior_order']: 28819\n",
      "df_products['product_name']: 1258\n",
      "df_order_products['add_to_cart_order']: 836\n"
     ]
    }
   ],
   "source": [
    "# Printing the number of missing values in each column.\n",
    "print('The number of missing values in')\n",
    "print(\"df_order['days_since_prior_order']:\", df_orders['days_since_prior_order'].isna().sum())\n",
    "print(\"df_products['product_name']:\", df_products['product_name'].isna().sum())\n",
    "print(\"df_order_products['add_to_cart_order']:\", df_order_products['add_to_cart_order'].isna().sum())"
   ]
  },
  {
   "cell_type": "markdown",
   "id": "b2969dfa",
   "metadata": {},
   "source": [
    "### Initial Impressions:\n",
    "    - All columns are appropriate data type (ID columns are all 'int64')\n",
    "    - Columns with missing values:\n",
    "        df_orders['days_since_prior_order']\n",
    "        df_products['product_name']\n",
    "        df_order_products['add_to_cart_order']"
   ]
  },
  {
   "cell_type": "markdown",
   "id": "07357848-dc64-4156-9cc3-01ff4365226d",
   "metadata": {},
   "source": [
    "## Find and remove duplicate values (and describe why you make your choices)"
   ]
  },
  {
   "cell_type": "markdown",
   "id": "f179f0a9",
   "metadata": {},
   "source": [
    "### `df_orders` data frame"
   ]
  },
  {
   "cell_type": "code",
   "execution_count": 6,
   "id": "b99297a5-405a-463d-8535-9adc3da4ad74",
   "metadata": {},
   "outputs": [
    {
     "name": "stdout",
     "output_type": "stream",
     "text": [
      "\n",
      "The number of duplicate rows in df_orders: 15\n"
     ]
    },
    {
     "data": {
      "text/html": [
       "<div>\n",
       "<style scoped>\n",
       "    .dataframe tbody tr th:only-of-type {\n",
       "        vertical-align: middle;\n",
       "    }\n",
       "\n",
       "    .dataframe tbody tr th {\n",
       "        vertical-align: top;\n",
       "    }\n",
       "\n",
       "    .dataframe thead th {\n",
       "        text-align: right;\n",
       "    }\n",
       "</style>\n",
       "<table border=\"1\" class=\"dataframe\">\n",
       "  <thead>\n",
       "    <tr style=\"text-align: right;\">\n",
       "      <th></th>\n",
       "      <th>order_id</th>\n",
       "      <th>user_id</th>\n",
       "      <th>order_number</th>\n",
       "      <th>order_dow</th>\n",
       "      <th>order_hour_of_day</th>\n",
       "      <th>days_since_prior_order</th>\n",
       "    </tr>\n",
       "  </thead>\n",
       "  <tbody>\n",
       "    <tr>\n",
       "      <th>371905</th>\n",
       "      <td>391768</td>\n",
       "      <td>57671</td>\n",
       "      <td>19</td>\n",
       "      <td>3</td>\n",
       "      <td>2</td>\n",
       "      <td>10.0</td>\n",
       "    </tr>\n",
       "    <tr>\n",
       "      <th>321100</th>\n",
       "      <td>408114</td>\n",
       "      <td>68324</td>\n",
       "      <td>4</td>\n",
       "      <td>3</td>\n",
       "      <td>2</td>\n",
       "      <td>18.0</td>\n",
       "    </tr>\n",
       "    <tr>\n",
       "      <th>394347</th>\n",
       "      <td>467134</td>\n",
       "      <td>63189</td>\n",
       "      <td>21</td>\n",
       "      <td>3</td>\n",
       "      <td>2</td>\n",
       "      <td>2.0</td>\n",
       "    </tr>\n",
       "    <tr>\n",
       "      <th>145574</th>\n",
       "      <td>794638</td>\n",
       "      <td>50898</td>\n",
       "      <td>24</td>\n",
       "      <td>3</td>\n",
       "      <td>2</td>\n",
       "      <td>2.0</td>\n",
       "    </tr>\n",
       "    <tr>\n",
       "      <th>311713</th>\n",
       "      <td>1021560</td>\n",
       "      <td>53767</td>\n",
       "      <td>3</td>\n",
       "      <td>3</td>\n",
       "      <td>2</td>\n",
       "      <td>9.0</td>\n",
       "    </tr>\n",
       "    <tr>\n",
       "      <th>273805</th>\n",
       "      <td>1112182</td>\n",
       "      <td>202304</td>\n",
       "      <td>84</td>\n",
       "      <td>3</td>\n",
       "      <td>2</td>\n",
       "      <td>6.0</td>\n",
       "    </tr>\n",
       "    <tr>\n",
       "      <th>411408</th>\n",
       "      <td>1286742</td>\n",
       "      <td>183220</td>\n",
       "      <td>48</td>\n",
       "      <td>3</td>\n",
       "      <td>2</td>\n",
       "      <td>4.0</td>\n",
       "    </tr>\n",
       "    <tr>\n",
       "      <th>266232</th>\n",
       "      <td>1782114</td>\n",
       "      <td>106752</td>\n",
       "      <td>1</td>\n",
       "      <td>3</td>\n",
       "      <td>2</td>\n",
       "      <td>NaN</td>\n",
       "    </tr>\n",
       "    <tr>\n",
       "      <th>230807</th>\n",
       "      <td>1918001</td>\n",
       "      <td>188546</td>\n",
       "      <td>14</td>\n",
       "      <td>3</td>\n",
       "      <td>2</td>\n",
       "      <td>16.0</td>\n",
       "    </tr>\n",
       "    <tr>\n",
       "      <th>323900</th>\n",
       "      <td>1919531</td>\n",
       "      <td>191501</td>\n",
       "      <td>32</td>\n",
       "      <td>3</td>\n",
       "      <td>2</td>\n",
       "      <td>7.0</td>\n",
       "    </tr>\n",
       "    <tr>\n",
       "      <th>441599</th>\n",
       "      <td>2125197</td>\n",
       "      <td>14050</td>\n",
       "      <td>48</td>\n",
       "      <td>3</td>\n",
       "      <td>2</td>\n",
       "      <td>3.0</td>\n",
       "    </tr>\n",
       "    <tr>\n",
       "      <th>223105</th>\n",
       "      <td>2160484</td>\n",
       "      <td>107525</td>\n",
       "      <td>16</td>\n",
       "      <td>3</td>\n",
       "      <td>2</td>\n",
       "      <td>30.0</td>\n",
       "    </tr>\n",
       "    <tr>\n",
       "      <th>345917</th>\n",
       "      <td>2232988</td>\n",
       "      <td>82565</td>\n",
       "      <td>1</td>\n",
       "      <td>3</td>\n",
       "      <td>2</td>\n",
       "      <td>NaN</td>\n",
       "    </tr>\n",
       "    <tr>\n",
       "      <th>415163</th>\n",
       "      <td>2282673</td>\n",
       "      <td>86751</td>\n",
       "      <td>49</td>\n",
       "      <td>3</td>\n",
       "      <td>2</td>\n",
       "      <td>2.0</td>\n",
       "    </tr>\n",
       "    <tr>\n",
       "      <th>284038</th>\n",
       "      <td>2845099</td>\n",
       "      <td>31189</td>\n",
       "      <td>11</td>\n",
       "      <td>3</td>\n",
       "      <td>2</td>\n",
       "      <td>7.0</td>\n",
       "    </tr>\n",
       "  </tbody>\n",
       "</table>\n",
       "</div>"
      ],
      "text/plain": [
       "        order_id  user_id  order_number  order_dow  order_hour_of_day  \\\n",
       "371905    391768    57671            19          3                  2   \n",
       "321100    408114    68324             4          3                  2   \n",
       "394347    467134    63189            21          3                  2   \n",
       "145574    794638    50898            24          3                  2   \n",
       "311713   1021560    53767             3          3                  2   \n",
       "273805   1112182   202304            84          3                  2   \n",
       "411408   1286742   183220            48          3                  2   \n",
       "266232   1782114   106752             1          3                  2   \n",
       "230807   1918001   188546            14          3                  2   \n",
       "323900   1919531   191501            32          3                  2   \n",
       "441599   2125197    14050            48          3                  2   \n",
       "223105   2160484   107525            16          3                  2   \n",
       "345917   2232988    82565             1          3                  2   \n",
       "415163   2282673    86751            49          3                  2   \n",
       "284038   2845099    31189            11          3                  2   \n",
       "\n",
       "        days_since_prior_order  \n",
       "371905                    10.0  \n",
       "321100                    18.0  \n",
       "394347                     2.0  \n",
       "145574                     2.0  \n",
       "311713                     9.0  \n",
       "273805                     6.0  \n",
       "411408                     4.0  \n",
       "266232                     NaN  \n",
       "230807                    16.0  \n",
       "323900                     7.0  \n",
       "441599                     3.0  \n",
       "223105                    30.0  \n",
       "345917                     NaN  \n",
       "415163                     2.0  \n",
       "284038                     7.0  "
      ]
     },
     "metadata": {},
     "output_type": "display_data"
    }
   ],
   "source": [
    "# Check for duplicated orders in df_orders.\n",
    "print()\n",
    "print('The number of duplicate rows in df_orders:', df_orders.duplicated().sum())\n",
    "duplicate_df_orders = df_orders[df_orders.duplicated()]\n",
    "display(duplicate_df_orders.sort_values(by = 'order_id'))"
   ]
  },
  {
   "cell_type": "code",
   "execution_count": 7,
   "id": "0d44de5d",
   "metadata": {},
   "outputs": [
    {
     "name": "stdout",
     "output_type": "stream",
     "text": [
      "There were: 121 total orders placed on Wednesday at 2:00 AM\n"
     ]
    }
   ],
   "source": [
    "# Check for all orders placed Wednesday at 2:00 AM.\n",
    "wednesday_orders = df_orders[df_orders['order_dow'] == 3]\n",
    "wednesday_2am_orders = wednesday_orders[wednesday_orders['order_hour_of_day'] == 2]\n",
    "print('There were:', wednesday_2am_orders['order_id'].count(), 'total orders placed on Wednesday at 2:00 AM')"
   ]
  },
  {
   "cell_type": "code",
   "execution_count": 8,
   "id": "480563c7",
   "metadata": {},
   "outputs": [],
   "source": [
    "# Remove duplicate orders.\n",
    "df_orders = df_orders.drop_duplicates().reset_index()"
   ]
  },
  {
   "cell_type": "code",
   "execution_count": 9,
   "id": "0b2396a2",
   "metadata": {},
   "outputs": [
    {
     "name": "stdout",
     "output_type": "stream",
     "text": [
      "0\n"
     ]
    }
   ],
   "source": [
    "# Double check for duplicate rows.\n",
    "print(df_orders.duplicated().sum())"
   ]
  },
  {
   "cell_type": "code",
   "execution_count": 10,
   "id": "f6113ef1",
   "metadata": {},
   "outputs": [
    {
     "name": "stdout",
     "output_type": "stream",
     "text": [
      "0\n"
     ]
    }
   ],
   "source": [
    "# Double check for duplicate order IDs only.\n",
    "print(df_orders['order_id'].duplicated().sum())"
   ]
  },
  {
   "cell_type": "markdown",
   "id": "5e8905ae",
   "metadata": {},
   "source": [
    "15 duplicate rows were found in df_orders data frame, closer inspection revealed all of them were from Wednesday at 2:00 AM.\n",
    "\n",
    "All duplicate rows were removed and index reset."
   ]
  },
  {
   "cell_type": "markdown",
   "id": "45e6bc46",
   "metadata": {},
   "source": [
    "### `df_products` data frame"
   ]
  },
  {
   "cell_type": "code",
   "execution_count": 11,
   "id": "5f526b5b-8175-46fa-a0fd-441767d50e64",
   "metadata": {},
   "outputs": [
    {
     "name": "stdout",
     "output_type": "stream",
     "text": [
      "\n",
      "The number of duplicate rows in df_products: 0\n"
     ]
    }
   ],
   "source": [
    "# Check for duplicated orders in df_products.\n",
    "print()\n",
    "print('The number of duplicate rows in df_products:', df_products.duplicated().sum())"
   ]
  },
  {
   "cell_type": "code",
   "execution_count": 12,
   "id": "88daa4f4",
   "metadata": {},
   "outputs": [
    {
     "name": "stdout",
     "output_type": "stream",
     "text": [
      "0\n"
     ]
    }
   ],
   "source": [
    "# Check for just duplicate product IDs.\n",
    "print(df_products['product_id'].duplicated().sum())"
   ]
  },
  {
   "cell_type": "code",
   "execution_count": 13,
   "id": "c773f0bf",
   "metadata": {},
   "outputs": [
    {
     "name": "stdout",
     "output_type": "stream",
     "text": [
      "The total number of duplicate product names: 1361\n"
     ]
    }
   ],
   "source": [
    "# Adding column 'product_name_lowercase' by converting 'product_name' column to lowercase.\n",
    "df_products['product_name_lowercase'] =  df_products['product_name'].str.lower()\n",
    "\n",
    "# Check for just duplicate product names \n",
    "product_name_duplicated = df_products['product_name_lowercase'].duplicated()\n",
    "print('The total number of duplicate product names:', product_name_duplicated.sum())"
   ]
  },
  {
   "cell_type": "code",
   "execution_count": 14,
   "id": "01efd02e",
   "metadata": {},
   "outputs": [
    {
     "name": "stdout",
     "output_type": "stream",
     "text": [
      "The number of duplicates among names that aren't missing: 104 .\n"
     ]
    }
   ],
   "source": [
    "# Creating a series object without missing names form 'product_name_lowercase' column.\n",
    "df_products_not_missing_names = df_products['product_name_lowercase'].dropna()\n",
    "\n",
    "# Check for duplicate product names that aren't missing.\n",
    "print(\"The number of duplicates among names that aren't missing:\", df_products_not_missing_names.duplicated().sum(),'.')"
   ]
  },
  {
   "cell_type": "markdown",
   "id": "9da8d293",
   "metadata": {},
   "source": [
    "Among 1361 duplicate product names found, 104 are from names that aren't missing."
   ]
  },
  {
   "cell_type": "markdown",
   "id": "60f30db1",
   "metadata": {},
   "source": [
    "### `df_departments` data frame"
   ]
  },
  {
   "cell_type": "code",
   "execution_count": 15,
   "id": "fb410ad4-0fbf-4b80-bb09-23fdea79afe3",
   "metadata": {},
   "outputs": [
    {
     "name": "stdout",
     "output_type": "stream",
     "text": [
      "0 duplicates found in df_departments.\n"
     ]
    }
   ],
   "source": [
    "# Checking for duplicates in df_departments.\n",
    "print(df_departments.duplicated().sum(), 'duplicates found in df_departments.')"
   ]
  },
  {
   "cell_type": "markdown",
   "id": "bd30d78e",
   "metadata": {},
   "source": [
    "No duplicate rows found in df_departments."
   ]
  },
  {
   "cell_type": "markdown",
   "id": "889349c1",
   "metadata": {},
   "source": [
    "### `df_aisles` data frame"
   ]
  },
  {
   "cell_type": "code",
   "execution_count": 16,
   "id": "9da89fb9-4679-40f5-ad0d-c34df753a3f8",
   "metadata": {},
   "outputs": [
    {
     "name": "stdout",
     "output_type": "stream",
     "text": [
      "0 duplicates found in df_aisles.\n"
     ]
    }
   ],
   "source": [
    "# Checking for duplicates in df_aisles.\n",
    "print(df_aisles.duplicated().sum(), 'duplicates found in df_aisles.')"
   ]
  },
  {
   "cell_type": "markdown",
   "id": "ac63826f",
   "metadata": {},
   "source": [
    "No duplicate rows found in df_aisles."
   ]
  },
  {
   "cell_type": "markdown",
   "id": "274cd06a",
   "metadata": {},
   "source": [
    "### `df_order_products` data frame"
   ]
  },
  {
   "cell_type": "code",
   "execution_count": 17,
   "id": "52326689-84a8-4b8f-a881-7c68780f62c9",
   "metadata": {},
   "outputs": [
    {
     "name": "stdout",
     "output_type": "stream",
     "text": [
      "0 duplicates found in df_order_products\n"
     ]
    }
   ],
   "source": [
    "# Check for fullly duplicate rows.\n",
    "print(df_order_products.duplicated().sum(), 'duplicates found in df_order_products')"
   ]
  },
  {
   "cell_type": "code",
   "execution_count": 18,
   "id": "7b861391",
   "metadata": {},
   "outputs": [
    {
     "name": "stdout",
     "output_type": "stream",
     "text": [
      "['order_id'].describe()\n",
      "count    4.545007e+06\n",
      "mean     1.711166e+06\n",
      "std      9.850955e+05\n",
      "min      4.000000e+00\n",
      "25%      8.608170e+05\n",
      "50%      1.711530e+06\n",
      "75%      2.561311e+06\n",
      "max      3.421079e+06\n",
      "Name: order_id, dtype: float64\n",
      "\n",
      "['product_id'].describe()\n",
      "count    4.545007e+06\n",
      "mean     2.558084e+04\n",
      "std      1.409552e+04\n",
      "min      1.000000e+00\n",
      "25%      1.353500e+04\n",
      "50%      2.527200e+04\n",
      "75%      3.793500e+04\n",
      "max      4.969400e+04\n",
      "Name: product_id, dtype: float64\n"
     ]
    }
   ],
   "source": [
    "# Double check for any other tricky duplicates\n",
    "print(\"['order_id'].describe()\")\n",
    "print(df_order_products['order_id'].describe())\n",
    "print()\n",
    "print(\"['product_id'].describe()\")\n",
    "print(df_order_products['product_id'].describe())"
   ]
  },
  {
   "cell_type": "markdown",
   "id": "0b890492",
   "metadata": {},
   "source": [
    "No duplicate rows found in df_order_products."
   ]
  },
  {
   "cell_type": "markdown",
   "id": "1e46de76",
   "metadata": {},
   "source": [
    "## Find and remove missing values\n"
   ]
  },
  {
   "cell_type": "markdown",
   "id": "c0aebd78",
   "metadata": {},
   "source": [
    "### `df_products` data frame"
   ]
  },
  {
   "cell_type": "code",
   "execution_count": 19,
   "id": "fe4a8b0f",
   "metadata": {},
   "outputs": [
    {
     "name": "stdout",
     "output_type": "stream",
     "text": [
      "The number of missing vales in 'days_since_prior_order': 28817\n",
      "The number of missing vales in 'product_name': 1258\n",
      "The number of missing vales in 'add_to_cart_order': 836\n"
     ]
    }
   ],
   "source": [
    "print(\"The number of missing vales in 'days_since_prior_order':\", df_orders['days_since_prior_order'].isna().sum())\n",
    "print(\"The number of missing vales in 'product_name':\", df_products['product_name'].isna().sum())\n",
    "print(\"The number of missing vales in 'add_to_cart_order':\", df_order_products['add_to_cart_order'].isna().sum())"
   ]
  },
  {
   "cell_type": "code",
   "execution_count": 20,
   "id": "e96167bc",
   "metadata": {},
   "outputs": [
    {
     "name": "stdout",
     "output_type": "stream",
     "text": [
      "aisle_id\n",
      "100    1258\n",
      "Name: product_id, dtype: int64\n"
     ]
    }
   ],
   "source": [
    "# Are all of the missing product names associated with aisle ID 100?\n",
    "missing_product_names = df_products[df_products['product_name'].isna()]\n",
    "print(missing_product_names.groupby('aisle_id')['product_id'].count())"
   ]
  },
  {
   "cell_type": "code",
   "execution_count": 21,
   "id": "8fd0a541",
   "metadata": {},
   "outputs": [
    {
     "name": "stdout",
     "output_type": "stream",
     "text": [
      "department_id\n",
      "21    1258\n",
      "Name: product_id, dtype: int64\n"
     ]
    }
   ],
   "source": [
    "# Are all of the missing product names associated with department ID 21?\n",
    "print(missing_product_names.groupby('department_id')['product_id'].count())"
   ]
  },
  {
   "cell_type": "code",
   "execution_count": 22,
   "id": "325c3464",
   "metadata": {},
   "outputs": [
    {
     "name": "stdout",
     "output_type": "stream",
     "text": [
      "The aisle name is: missing .\n",
      "The department name is: missing .\n"
     ]
    }
   ],
   "source": [
    "# What is this aisle and department?\n",
    "aisle_index = 99\n",
    "department_index = 20\n",
    "print('The aisle name is:', df_aisles.loc[aisle_index,'aisle'],'.')\n",
    "print('The department name is:', df_departments.loc[department_index, 'department'],'.')"
   ]
  },
  {
   "cell_type": "code",
   "execution_count": 23,
   "id": "6b295120",
   "metadata": {},
   "outputs": [],
   "source": [
    "# Fill missing product names with 'Unknown'\n",
    "df_products['product_name'] = df_products['product_name'].fillna('Unknown')"
   ]
  },
  {
   "cell_type": "code",
   "execution_count": 24,
   "id": "e522e183",
   "metadata": {},
   "outputs": [
    {
     "name": "stdout",
     "output_type": "stream",
     "text": [
      "The number of missing vales in 'product_name': 0\n"
     ]
    }
   ],
   "source": [
    "# Checking for any remaning missing values.\n",
    "print(\"The number of missing vales in 'product_name':\", df_products['product_name'].isna().sum())"
   ]
  },
  {
   "cell_type": "markdown",
   "id": "fc70e5ad",
   "metadata": {},
   "source": [
    "1258 missing 'product_names' were found, all of them had 'aisle_id'=100 and 'department_id'=21. Upon futher investigation, it was revealed both aisle_id 100 and department_id 21 were named \"missing\"."
   ]
  },
  {
   "cell_type": "markdown",
   "id": "7eb45c86",
   "metadata": {},
   "source": [
    "### `df_orders` data frame"
   ]
  },
  {
   "cell_type": "code",
   "execution_count": 25,
   "id": "4db3d4cb",
   "metadata": {},
   "outputs": [
    {
     "name": "stdout",
     "output_type": "stream",
     "text": [
      "<class 'pandas.core.frame.DataFrame'>\n",
      "Int64Index: 450135 entries, 0 to 478951\n",
      "Data columns (total 7 columns):\n",
      " #   Column                  Non-Null Count   Dtype  \n",
      "---  ------                  --------------   -----  \n",
      " 0   index                   450135 non-null  int64  \n",
      " 1   order_id                450135 non-null  int64  \n",
      " 2   user_id                 450135 non-null  int64  \n",
      " 3   order_number            450135 non-null  int64  \n",
      " 4   order_dow               450135 non-null  int64  \n",
      " 5   order_hour_of_day       450135 non-null  int64  \n",
      " 6   days_since_prior_order  450135 non-null  float64\n",
      "dtypes: float64(1), int64(6)\n",
      "memory usage: 27.5 MB\n"
     ]
    }
   ],
   "source": [
    "df_not_first_orders = df_orders[df_orders['order_number']!=1]\n",
    "df_not_first_orders.info()"
   ]
  },
  {
   "cell_type": "code",
   "execution_count": 26,
   "id": "166e5a86",
   "metadata": {},
   "outputs": [
    {
     "name": "stdout",
     "output_type": "stream",
     "text": [
      "0 missing values where it is not the customers first order.\n"
     ]
    }
   ],
   "source": [
    "# Are there any missing values where it's not a customer's first order?\n",
    "print(df_not_first_orders['days_since_prior_order'].isna().sum(), 'missing values where it is not the customers first order.')"
   ]
  },
  {
   "cell_type": "markdown",
   "id": "4e23d089",
   "metadata": {},
   "source": [
    "No values are missing after filtering out first orders from df_orders."
   ]
  },
  {
   "cell_type": "markdown",
   "id": "69dc9ca4",
   "metadata": {},
   "source": [
    "### `df_order_products` data frame"
   ]
  },
  {
   "cell_type": "code",
   "execution_count": 27,
   "id": "b8240253",
   "metadata": {},
   "outputs": [
    {
     "name": "stdout",
     "output_type": "stream",
     "text": [
      "<class 'pandas.core.frame.DataFrame'>\n",
      "RangeIndex: 4545007 entries, 0 to 4545006\n",
      "Data columns (total 4 columns):\n",
      " #   Column             Non-Null Count    Dtype  \n",
      "---  ------             --------------    -----  \n",
      " 0   order_id           4545007 non-null  int64  \n",
      " 1   product_id         4545007 non-null  int64  \n",
      " 2   add_to_cart_order  4544171 non-null  float64\n",
      " 3   reordered          4545007 non-null  int64  \n",
      "dtypes: float64(1), int64(3)\n",
      "memory usage: 138.7 MB\n"
     ]
    }
   ],
   "source": [
    "df_order_products.info(show_counts=True)"
   ]
  },
  {
   "cell_type": "code",
   "execution_count": 28,
   "id": "9a78e5ee",
   "metadata": {},
   "outputs": [
    {
     "name": "stdout",
     "output_type": "stream",
     "text": [
      "Min. and Max. values in 'add_to_cart_order' column: 1 , 64\n"
     ]
    }
   ],
   "source": [
    "# What are the min and max values in this column?\n",
    "print(\"Min. and Max. values in 'add_to_cart_order' column:\",\n",
    "      int(df_order_products['add_to_cart_order'].min()),\n",
    "      ',',\n",
    "      int(df_order_products['add_to_cart_order'].max()))"
   ]
  },
  {
   "cell_type": "code",
   "execution_count": 29,
   "id": "ab9d0c2b",
   "metadata": {},
   "outputs": [
    {
     "name": "stdout",
     "output_type": "stream",
     "text": [
      "[2449164 1968313 2926893 1717990 1959075  844733   61355  936852  264710\n",
      " 1564093  129627  293169 2849370 1386261 3308010  903110 2136777 3347453\n",
      " 1888628  165801 2094761 1038146 2997021  813364 2256933  171934 2409109\n",
      " 1730767 1169835  733526  404157 3125735  747668 1800005 1961723  871281\n",
      "  388234 1648217 1477139  102236 1021563 1832957 2721963  678116 1220886\n",
      " 1673227 2999801 1633337 2470674 2625444 1677118 2479011 3383594 1183255\n",
      " 1713430 2652650 1598369 1916118  854647 1302315  888470  180546 2621907\n",
      " 1308785 2729254    9310 2170451 2979697 1625713 1529171]\n"
     ]
    }
   ],
   "source": [
    "# Save all order IDs with at least one missing value in 'add_to_cart_order'\n",
    "df_order_products_filtered = df_order_products[df_order_products['add_to_cart_order'].isna()]\n",
    "filtered_order_ids = df_order_products_filtered['order_id'].unique()\n",
    "print(filtered_order_ids)"
   ]
  },
  {
   "cell_type": "code",
   "execution_count": 30,
   "id": "54c31695",
   "metadata": {},
   "outputs": [
    {
     "name": "stdout",
     "output_type": "stream",
     "text": [
      "order_id\n",
      "9310        65\n",
      "747668      65\n",
      "1598369     65\n",
      "1677118     65\n",
      "2170451     65\n",
      "          ... \n",
      "1959075     98\n",
      "171934     104\n",
      "2136777    108\n",
      "3308010    115\n",
      "61355      127\n",
      "Name: product_id, Length: 70, dtype: int64\n"
     ]
    }
   ],
   "source": [
    "# Do all orders with missing values have more than 64 products?\n",
    "print(df_order_products.query(\"order_id in @filtered_order_ids\").groupby('order_id')['product_id'].count().sort_values())"
   ]
  },
  {
   "cell_type": "code",
   "execution_count": 31,
   "id": "7a987d08",
   "metadata": {},
   "outputs": [
    {
     "name": "stdout",
     "output_type": "stream",
     "text": [
      "<class 'pandas.core.frame.DataFrame'>\n",
      "RangeIndex: 4545007 entries, 0 to 4545006\n",
      "Data columns (total 4 columns):\n",
      " #   Column             Non-Null Count    Dtype\n",
      "---  ------             --------------    -----\n",
      " 0   order_id           4545007 non-null  int64\n",
      " 1   product_id         4545007 non-null  int64\n",
      " 2   add_to_cart_order  4545007 non-null  int32\n",
      " 3   reordered          4545007 non-null  int64\n",
      "dtypes: int32(1), int64(3)\n",
      "memory usage: 121.4 MB\n"
     ]
    }
   ],
   "source": [
    "# Replace missing values with 999 and convert column to integer type.\n",
    "df_order_products['add_to_cart_order'] = df_order_products['add_to_cart_order'].fillna(999)\n",
    "df_order_products['add_to_cart_order'] = df_order_products['add_to_cart_order'].astype('int')\n",
    "\n",
    "# Checking to see if any missing values remain, and confirming change to integer type.\n",
    "df_order_products.info(show_counts=True)"
   ]
  },
  {
   "cell_type": "markdown",
   "id": "fea4bcc7",
   "metadata": {},
   "source": [
    "836 missing values in the 'add_to_cart_order' column were found, orders with more than 64 items didn't add a value after 64.\n",
    "missing values were replace with 999."
   ]
  },
  {
   "cell_type": "markdown",
   "id": "short-capability",
   "metadata": {},
   "source": [
    "###  Verify that the `'order_hour_of_day'` and `'order_dow'` values in the `orders` tables are sensible (i.e. `'order_hour_of_day'` ranges from 0 to 23 and `'order_dow'` ranges from 0 to 6)"
   ]
  },
  {
   "cell_type": "code",
   "execution_count": 32,
   "id": "growing-fruit",
   "metadata": {},
   "outputs": [
    {
     "name": "stdout",
     "output_type": "stream",
     "text": [
      "[0, 1, 2, 3, 4, 5, 6, 7, 8, 9, 10, 11, 12, 13, 14, 15, 16, 17, 18, 19, 20, 21, 22, 23]\n"
     ]
    }
   ],
   "source": [
    "# Making a list of all unique hours in 'order_hour_of_day' column.\n",
    "hours_array = df_orders['order_hour_of_day'].unique()\n",
    "hour_list =[]\n",
    "for hour in hours_array:\n",
    "    hour_list.append(hour)\n",
    "\n",
    "# Sorting and printing the list. We can see all numbers from 0 to 23.\n",
    "hour_list.sort()\n",
    "print(hour_list)"
   ]
  },
  {
   "cell_type": "code",
   "execution_count": 33,
   "id": "accessory-malaysia",
   "metadata": {},
   "outputs": [
    {
     "name": "stdout",
     "output_type": "stream",
     "text": [
      "[0, 1, 2, 3, 4, 5, 6]\n"
     ]
    }
   ],
   "source": [
    "# Making a list of all unique dows in 'order_of_day' column.\n",
    "dow_array = df_orders['order_dow'].unique()\n",
    "dow_list = []\n",
    "for dow in dow_array:\n",
    "    dow_list.append(dow)\n",
    "\n",
    "# Sorting and priting the list. We can see all numbers from 0 to 6.    \n",
    "dow_list.sort()\n",
    "print(dow_list)                      "
   ]
  },
  {
   "cell_type": "markdown",
   "id": "a6743a70",
   "metadata": {},
   "source": [
    "### What time of day do people shop for groceries?"
   ]
  },
  {
   "cell_type": "code",
   "execution_count": 34,
   "id": "b6d44f76",
   "metadata": {},
   "outputs": [
    {
     "name": "stdout",
     "output_type": "stream",
     "text": [
      "order_hour_of_day\n",
      "10    40578\n",
      "11    40032\n",
      "15    39789\n",
      "14    39631\n",
      "13    39007\n",
      "16    38112\n",
      "12    38034\n",
      "9     35896\n",
      "17    31930\n",
      "18    25510\n",
      "8     25024\n",
      "19    19547\n",
      "20    14624\n",
      "7     13043\n",
      "21    11019\n",
      "22     8512\n",
      "23     5611\n",
      "6      4215\n",
      "0      3180\n",
      "1      1763\n",
      "5      1371\n",
      "2       989\n",
      "3       770\n",
      "4       765\n",
      "Name: order_id, dtype: int64\n"
     ]
    }
   ],
   "source": [
    "df_orders_by_hour_of_day = df_orders.groupby('order_hour_of_day')['order_id'].count()\n",
    "print(df_orders_by_hour_of_day.sort_values(ascending=False))"
   ]
  },
  {
   "cell_type": "code",
   "execution_count": 35,
   "id": "a36cca27",
   "metadata": {},
   "outputs": [
    {
     "data": {
      "image/png": "[encoded data removed]",
      "text/plain": [
       "<Figure size 640x480 with 1 Axes>"
      ]
     },
     "metadata": {},
     "output_type": "display_data"
    }
   ],
   "source": [
    "df_orders_by_hour_of_day.plot(kind = 'bar',\n",
    "                             title ='Number of Orders per Hour of Day',\n",
    "                             xlabel = 'Hour of Day',\n",
    "                             ylabel = 'Number of Orders')\n",
    "plt.show()"
   ]
  },
  {
   "cell_type": "markdown",
   "id": "11270eed",
   "metadata": {},
   "source": [
    "10:00 AM to 10:59 AM is when the most number of orders are placed."
   ]
  },
  {
   "cell_type": "markdown",
   "id": "documented-command",
   "metadata": {},
   "source": [
    "### What day of the week do people shop for groceries?"
   ]
  },
  {
   "cell_type": "code",
   "execution_count": 36,
   "id": "e31af5e4",
   "metadata": {},
   "outputs": [
    {
     "name": "stdout",
     "output_type": "stream",
     "text": [
      "order_dow\n",
      "0    84090\n",
      "1    82185\n",
      "2    65833\n",
      "5    63488\n",
      "6    62649\n",
      "3    60897\n",
      "4    59810\n",
      "Name: order_id, dtype: int64\n"
     ]
    }
   ],
   "source": [
    "df_orders_dow = df_orders.groupby('order_dow')['order_id'].count()\n",
    "print(df_orders_dow.sort_values(ascending=False))"
   ]
  },
  {
   "cell_type": "code",
   "execution_count": 37,
   "id": "chief-digit",
   "metadata": {},
   "outputs": [
    {
     "data": {
      "image/png": "[encoded data removed]",
      "text/plain": [
       "<Figure size 640x480 with 1 Axes>"
      ]
     },
     "metadata": {},
     "output_type": "display_data"
    }
   ],
   "source": [
    "df_orders_dow.plot(kind = 'bar',\n",
    "                  title = 'Number of Orders per Day of Week',\n",
    "                  xlabel = 'Day of Week',\n",
    "                  ylabel = 'Number of Orders')\n",
    "plt.show()"
   ]
  },
  {
   "cell_type": "markdown",
   "id": "dominant-lightning",
   "metadata": {},
   "source": [
    "Sunday is the busiest day for grocery shopping."
   ]
  },
  {
   "cell_type": "markdown",
   "id": "cutting-concert",
   "metadata": {},
   "source": [
    "### How long do people wait until placing another order?"
   ]
  },
  {
   "cell_type": "code",
   "execution_count": 38,
   "id": "c231f523",
   "metadata": {},
   "outputs": [
    {
     "name": "stdout",
     "output_type": "stream",
     "text": [
      "On average customers wait 11.1 days before placing another order.\n"
     ]
    }
   ],
   "source": [
    "# Using the df_not_first_orders that was created eariler.\n",
    "# It filters out the firt orders, which are not relavent to our analysis \n",
    "print('On average customers wait',\n",
    "      round(df_not_first_orders['days_since_prior_order'].mean(),1),\n",
    "      'days before placing another order.')"
   ]
  },
  {
   "cell_type": "code",
   "execution_count": 39,
   "id": "8d5d41f5",
   "metadata": {},
   "outputs": [],
   "source": [
    "df_not_first_orders_filtered = df_not_first_orders.groupby('days_since_prior_order')['order_id'].count()"
   ]
  },
  {
   "cell_type": "code",
   "execution_count": 40,
   "id": "b8fdcc6c",
   "metadata": {},
   "outputs": [
    {
     "data": {
      "image/png": "[encoded data removed]",
      "text/plain": [
       "<Figure size 640x480 with 1 Axes>"
      ]
     },
     "metadata": {},
     "output_type": "display_data"
    }
   ],
   "source": [
    "df_not_first_orders_filtered.plot( kind = 'bar',\n",
    "                        title = 'Time between Orders',\n",
    "                        xlabel = 'Days since Last Order',\n",
    "                        ylabel = 'Number of Orders')\n",
    "plt.show()"
   ]
  },
  {
   "cell_type": "markdown",
   "id": "discrete-vertex",
   "metadata": {},
   "source": [
    "11.1 days is the average time between orders. \n",
    "\n",
    "30 days being the median and the maximum value. It is possible that 30 days was the max value set during data collection.\n",
    "7 and 14 days also show peaks, which could indicate recurring order of some kind.\n",
    "\n",
    "0 is the smallest value, a certain number of customers placed orders in less than a day before the last one."
   ]
  },
  {
   "cell_type": "markdown",
   "id": "packed-classic",
   "metadata": {},
   "source": [
    "### Is there a difference in `'order_hour_of_day'` distributions on Wednesdays and Saturdays?"
   ]
  },
  {
   "cell_type": "code",
   "execution_count": 41,
   "id": "d89b8403",
   "metadata": {},
   "outputs": [],
   "source": [
    "# Assigning variables by filtering the desired dow.\n",
    "df_orders_wednesday = df_orders[df_orders['order_dow']==3]\n",
    "df_orders_saturday = df_orders[df_orders['order_dow']==6]"
   ]
  },
  {
   "cell_type": "code",
   "execution_count": 42,
   "id": "94e54e8a",
   "metadata": {},
   "outputs": [
    {
     "data": {
      "image/png": "[encoded data removed]",
      "text/plain": [
       "<Figure size 640x480 with 1 Axes>"
      ]
     },
     "metadata": {},
     "output_type": "display_data"
    }
   ],
   "source": [
    "df_orders_wednesday['order_hour_of_day'].plot(kind = 'hist',\n",
    "                                              bins=23)\n",
    "plt.show()"
   ]
  },
  {
   "cell_type": "code",
   "execution_count": 43,
   "id": "797c90a8",
   "metadata": {},
   "outputs": [
    {
     "data": {
      "image/png": "[encoded data removed]",
      "text/plain": [
       "<Figure size 640x480 with 1 Axes>"
      ]
     },
     "metadata": {},
     "output_type": "display_data"
    }
   ],
   "source": [
    "df_orders_saturday['order_hour_of_day'].plot(kind = 'hist', color='yellow',\n",
    "                                             bins=23)\n",
    "plt.show()"
   ]
  },
  {
   "cell_type": "code",
   "execution_count": 44,
   "id": "35bcea30",
   "metadata": {},
   "outputs": [
    {
     "data": {
      "image/png": "[encoded data removed]",
      "text/plain": [
       "<Figure size 640x480 with 1 Axes>"
      ]
     },
     "metadata": {},
     "output_type": "display_data"
    }
   ],
   "source": [
    "df_orders_wednesday['order_hour_of_day'].plot(kind = 'hist',\n",
    "                                              bins=23)\n",
    "df_orders_saturday['order_hour_of_day'].plot(kind = 'hist',\n",
    "                                             color ='yellow',\n",
    "                                             alpha =.5,\n",
    "                                             bins=23)\n",
    "\n",
    "plt.legend(['Wed','Sat'])\n",
    "plt.show()"
   ]
  },
  {
   "cell_type": "markdown",
   "id": "charitable-congo",
   "metadata": {},
   "source": [
    "Saturday peaks around 01:00 PM to 03:00PM, whereas Wednesday has a bimodal peak around 10:00 AM and 07:00 PM."
   ]
  },
  {
   "cell_type": "markdown",
   "id": "e3891143",
   "metadata": {},
   "source": [
    "### What's the distribution for the number of orders per customer?"
   ]
  },
  {
   "cell_type": "code",
   "execution_count": 45,
   "id": "e2051531",
   "metadata": {},
   "outputs": [],
   "source": [
    "# Creating a seires object that groups by 'order_number' and applys a count to the user_id column.\n",
    "df_users_filtered = df_orders.groupby('order_number')['user_id'].count()"
   ]
  },
  {
   "cell_type": "code",
   "execution_count": 46,
   "id": "00e69a66",
   "metadata": {},
   "outputs": [
    {
     "data": {
      "image/png": "[encoded data removed]",
      "text/plain": [
       "<Figure size 2000x600 with 1 Axes>"
      ]
     },
     "metadata": {},
     "output_type": "display_data"
    }
   ],
   "source": [
    "df_users_filtered.plot(kind = 'bar',\n",
    "                       title ='Distribution for the number of orders per customer',\n",
    "                       xlabel = 'number of total orders',\n",
    "                       ylabel ='number of customers',\n",
    "                       figsize=[20,6])\n",
    "plt.show()"
   ]
  },
  {
   "cell_type": "markdown",
   "id": "d2eff7d5",
   "metadata": {},
   "source": [
    "We can observe an inverse logarithmic relationship between number of orders and number of customers. i.e. few customer have large total number of orders. \n",
    "\n",
    "The number of customers seems to drop logarithmicly after 4 total orders."
   ]
  },
  {
   "cell_type": "markdown",
   "id": "54a0319c",
   "metadata": {},
   "source": [
    "### What are the top 20 popular products (display their id and name)?"
   ]
  },
  {
   "cell_type": "code",
   "execution_count": 47,
   "id": "exterior-arizona",
   "metadata": {
    "scrolled": true
   },
   "outputs": [],
   "source": [
    "# Creating a seires object from df_order_products that groups product_id and applys a count to order_id column.\n",
    "product_counts = df_order_products.groupby('product_id')['order_id'].count().sort_values(ascending = False)"
   ]
  },
  {
   "cell_type": "code",
   "execution_count": 48,
   "id": "universal-facial",
   "metadata": {},
   "outputs": [],
   "source": [
    "# Merging the product_counts series object to df_products to add product name.\n",
    "popular_products = pd.merge(product_counts, df_products, on = 'product_id')"
   ]
  },
  {
   "cell_type": "code",
   "execution_count": 49,
   "id": "fe6190fd",
   "metadata": {},
   "outputs": [
    {
     "data": {
      "text/html": [
       "<div>\n",
       "<style scoped>\n",
       "    .dataframe tbody tr th:only-of-type {\n",
       "        vertical-align: middle;\n",
       "    }\n",
       "\n",
       "    .dataframe tbody tr th {\n",
       "        vertical-align: top;\n",
       "    }\n",
       "\n",
       "    .dataframe thead th {\n",
       "        text-align: right;\n",
       "    }\n",
       "</style>\n",
       "<table border=\"1\" class=\"dataframe\">\n",
       "  <thead>\n",
       "    <tr style=\"text-align: right;\">\n",
       "      <th></th>\n",
       "      <th>product_id</th>\n",
       "      <th>product_name</th>\n",
       "      <th>order_id</th>\n",
       "    </tr>\n",
       "  </thead>\n",
       "  <tbody>\n",
       "    <tr>\n",
       "      <th>0</th>\n",
       "      <td>24852</td>\n",
       "      <td>Banana</td>\n",
       "      <td>66050</td>\n",
       "    </tr>\n",
       "    <tr>\n",
       "      <th>1</th>\n",
       "      <td>13176</td>\n",
       "      <td>Bag of Organic Bananas</td>\n",
       "      <td>53297</td>\n",
       "    </tr>\n",
       "    <tr>\n",
       "      <th>2</th>\n",
       "      <td>21137</td>\n",
       "      <td>Organic Strawberries</td>\n",
       "      <td>37039</td>\n",
       "    </tr>\n",
       "    <tr>\n",
       "      <th>3</th>\n",
       "      <td>21903</td>\n",
       "      <td>Organic Baby Spinach</td>\n",
       "      <td>33971</td>\n",
       "    </tr>\n",
       "    <tr>\n",
       "      <th>4</th>\n",
       "      <td>47209</td>\n",
       "      <td>Organic Hass Avocado</td>\n",
       "      <td>29773</td>\n",
       "    </tr>\n",
       "    <tr>\n",
       "      <th>5</th>\n",
       "      <td>47766</td>\n",
       "      <td>Organic Avocado</td>\n",
       "      <td>24689</td>\n",
       "    </tr>\n",
       "    <tr>\n",
       "      <th>6</th>\n",
       "      <td>47626</td>\n",
       "      <td>Large Lemon</td>\n",
       "      <td>21495</td>\n",
       "    </tr>\n",
       "    <tr>\n",
       "      <th>7</th>\n",
       "      <td>16797</td>\n",
       "      <td>Strawberries</td>\n",
       "      <td>20018</td>\n",
       "    </tr>\n",
       "    <tr>\n",
       "      <th>8</th>\n",
       "      <td>26209</td>\n",
       "      <td>Limes</td>\n",
       "      <td>19690</td>\n",
       "    </tr>\n",
       "    <tr>\n",
       "      <th>9</th>\n",
       "      <td>27845</td>\n",
       "      <td>Organic Whole Milk</td>\n",
       "      <td>19600</td>\n",
       "    </tr>\n",
       "    <tr>\n",
       "      <th>10</th>\n",
       "      <td>27966</td>\n",
       "      <td>Organic Raspberries</td>\n",
       "      <td>19197</td>\n",
       "    </tr>\n",
       "    <tr>\n",
       "      <th>11</th>\n",
       "      <td>22935</td>\n",
       "      <td>Organic Yellow Onion</td>\n",
       "      <td>15898</td>\n",
       "    </tr>\n",
       "    <tr>\n",
       "      <th>12</th>\n",
       "      <td>24964</td>\n",
       "      <td>Organic Garlic</td>\n",
       "      <td>15292</td>\n",
       "    </tr>\n",
       "    <tr>\n",
       "      <th>13</th>\n",
       "      <td>45007</td>\n",
       "      <td>Organic Zucchini</td>\n",
       "      <td>14584</td>\n",
       "    </tr>\n",
       "    <tr>\n",
       "      <th>14</th>\n",
       "      <td>39275</td>\n",
       "      <td>Organic Blueberries</td>\n",
       "      <td>13879</td>\n",
       "    </tr>\n",
       "    <tr>\n",
       "      <th>15</th>\n",
       "      <td>49683</td>\n",
       "      <td>Cucumber Kirby</td>\n",
       "      <td>13675</td>\n",
       "    </tr>\n",
       "    <tr>\n",
       "      <th>16</th>\n",
       "      <td>28204</td>\n",
       "      <td>Organic Fuji Apple</td>\n",
       "      <td>12544</td>\n",
       "    </tr>\n",
       "    <tr>\n",
       "      <th>17</th>\n",
       "      <td>5876</td>\n",
       "      <td>Organic Lemon</td>\n",
       "      <td>12232</td>\n",
       "    </tr>\n",
       "    <tr>\n",
       "      <th>18</th>\n",
       "      <td>8277</td>\n",
       "      <td>Apple Honeycrisp Organic</td>\n",
       "      <td>11993</td>\n",
       "    </tr>\n",
       "    <tr>\n",
       "      <th>19</th>\n",
       "      <td>40706</td>\n",
       "      <td>Organic Grape Tomatoes</td>\n",
       "      <td>11781</td>\n",
       "    </tr>\n",
       "  </tbody>\n",
       "</table>\n",
       "</div>"
      ],
      "text/plain": [
       "    product_id              product_name  order_id\n",
       "0        24852                    Banana     66050\n",
       "1        13176    Bag of Organic Bananas     53297\n",
       "2        21137      Organic Strawberries     37039\n",
       "3        21903      Organic Baby Spinach     33971\n",
       "4        47209      Organic Hass Avocado     29773\n",
       "5        47766           Organic Avocado     24689\n",
       "6        47626               Large Lemon     21495\n",
       "7        16797              Strawberries     20018\n",
       "8        26209                     Limes     19690\n",
       "9        27845        Organic Whole Milk     19600\n",
       "10       27966       Organic Raspberries     19197\n",
       "11       22935      Organic Yellow Onion     15898\n",
       "12       24964            Organic Garlic     15292\n",
       "13       45007          Organic Zucchini     14584\n",
       "14       39275       Organic Blueberries     13879\n",
       "15       49683            Cucumber Kirby     13675\n",
       "16       28204        Organic Fuji Apple     12544\n",
       "17        5876             Organic Lemon     12232\n",
       "18        8277  Apple Honeycrisp Organic     11993\n",
       "19       40706    Organic Grape Tomatoes     11781"
      ]
     },
     "metadata": {},
     "output_type": "display_data"
    }
   ],
   "source": [
    "# display only the product_id, product_name and 'order_id'(total orders) columns, for the top 20.\n",
    "display(popular_products[['product_id', 'product_name', 'order_id']].head(20))"
   ]
  },
  {
   "cell_type": "markdown",
   "id": "7df00f47",
   "metadata": {},
   "source": [
    "Bananas are among the top 2 most popular products.\n",
    "\n",
    "Over all fruits and vegetables are very popular.\n",
    "\n",
    "All of the top 20 are perishable household staples."
   ]
  },
  {
   "cell_type": "markdown",
   "id": "5e6b5537",
   "metadata": {},
   "source": [
    "###  What are the top 20 items that are reordered most frequently (display their names and product IDs)?"
   ]
  },
  {
   "cell_type": "code",
   "execution_count": 50,
   "id": "9374e55a",
   "metadata": {},
   "outputs": [],
   "source": [
    "# Creating a data frame to include only prodcuts that have been reordered.\n",
    "df_reordered_products = df_order_products[df_order_products['reordered'] == 1]"
   ]
  },
  {
   "cell_type": "code",
   "execution_count": 51,
   "id": "possible-change",
   "metadata": {
    "scrolled": true
   },
   "outputs": [],
   "source": [
    "# Grouping by product_id and applying the count to order_id, to get a count of how many orders per product_id.\n",
    "reordered_products_filtered = df_reordered_products.groupby('product_id')['order_id'].count().sort_values(ascending = False)"
   ]
  },
  {
   "cell_type": "code",
   "execution_count": 52,
   "id": "professional-surfing",
   "metadata": {
    "scrolled": true
   },
   "outputs": [],
   "source": [
    "# Merging with df_prodcuts to add product names to the data frame\n",
    "popular_reordered_products = pd.merge(reordered_products_filtered, df_products, on = 'product_id')"
   ]
  },
  {
   "cell_type": "code",
   "execution_count": 53,
   "id": "48dd3658",
   "metadata": {},
   "outputs": [
    {
     "data": {
      "text/html": [
       "<div>\n",
       "<style scoped>\n",
       "    .dataframe tbody tr th:only-of-type {\n",
       "        vertical-align: middle;\n",
       "    }\n",
       "\n",
       "    .dataframe tbody tr th {\n",
       "        vertical-align: top;\n",
       "    }\n",
       "\n",
       "    .dataframe thead th {\n",
       "        text-align: right;\n",
       "    }\n",
       "</style>\n",
       "<table border=\"1\" class=\"dataframe\">\n",
       "  <thead>\n",
       "    <tr style=\"text-align: right;\">\n",
       "      <th></th>\n",
       "      <th>product_id</th>\n",
       "      <th>product_name</th>\n",
       "      <th>order_id</th>\n",
       "    </tr>\n",
       "  </thead>\n",
       "  <tbody>\n",
       "    <tr>\n",
       "      <th>0</th>\n",
       "      <td>24852</td>\n",
       "      <td>Banana</td>\n",
       "      <td>55763</td>\n",
       "    </tr>\n",
       "    <tr>\n",
       "      <th>1</th>\n",
       "      <td>13176</td>\n",
       "      <td>Bag of Organic Bananas</td>\n",
       "      <td>44450</td>\n",
       "    </tr>\n",
       "    <tr>\n",
       "      <th>2</th>\n",
       "      <td>21137</td>\n",
       "      <td>Organic Strawberries</td>\n",
       "      <td>28639</td>\n",
       "    </tr>\n",
       "    <tr>\n",
       "      <th>3</th>\n",
       "      <td>21903</td>\n",
       "      <td>Organic Baby Spinach</td>\n",
       "      <td>26233</td>\n",
       "    </tr>\n",
       "    <tr>\n",
       "      <th>4</th>\n",
       "      <td>47209</td>\n",
       "      <td>Organic Hass Avocado</td>\n",
       "      <td>23629</td>\n",
       "    </tr>\n",
       "    <tr>\n",
       "      <th>5</th>\n",
       "      <td>47766</td>\n",
       "      <td>Organic Avocado</td>\n",
       "      <td>18743</td>\n",
       "    </tr>\n",
       "    <tr>\n",
       "      <th>6</th>\n",
       "      <td>27845</td>\n",
       "      <td>Organic Whole Milk</td>\n",
       "      <td>16251</td>\n",
       "    </tr>\n",
       "    <tr>\n",
       "      <th>7</th>\n",
       "      <td>47626</td>\n",
       "      <td>Large Lemon</td>\n",
       "      <td>15044</td>\n",
       "    </tr>\n",
       "    <tr>\n",
       "      <th>8</th>\n",
       "      <td>27966</td>\n",
       "      <td>Organic Raspberries</td>\n",
       "      <td>14748</td>\n",
       "    </tr>\n",
       "    <tr>\n",
       "      <th>9</th>\n",
       "      <td>16797</td>\n",
       "      <td>Strawberries</td>\n",
       "      <td>13945</td>\n",
       "    </tr>\n",
       "    <tr>\n",
       "      <th>10</th>\n",
       "      <td>26209</td>\n",
       "      <td>Limes</td>\n",
       "      <td>13327</td>\n",
       "    </tr>\n",
       "    <tr>\n",
       "      <th>11</th>\n",
       "      <td>22935</td>\n",
       "      <td>Organic Yellow Onion</td>\n",
       "      <td>11145</td>\n",
       "    </tr>\n",
       "    <tr>\n",
       "      <th>12</th>\n",
       "      <td>24964</td>\n",
       "      <td>Organic Garlic</td>\n",
       "      <td>10411</td>\n",
       "    </tr>\n",
       "    <tr>\n",
       "      <th>13</th>\n",
       "      <td>45007</td>\n",
       "      <td>Organic Zucchini</td>\n",
       "      <td>10076</td>\n",
       "    </tr>\n",
       "    <tr>\n",
       "      <th>14</th>\n",
       "      <td>49683</td>\n",
       "      <td>Cucumber Kirby</td>\n",
       "      <td>9538</td>\n",
       "    </tr>\n",
       "    <tr>\n",
       "      <th>15</th>\n",
       "      <td>28204</td>\n",
       "      <td>Organic Fuji Apple</td>\n",
       "      <td>8989</td>\n",
       "    </tr>\n",
       "    <tr>\n",
       "      <th>16</th>\n",
       "      <td>8277</td>\n",
       "      <td>Apple Honeycrisp Organic</td>\n",
       "      <td>8836</td>\n",
       "    </tr>\n",
       "    <tr>\n",
       "      <th>17</th>\n",
       "      <td>39275</td>\n",
       "      <td>Organic Blueberries</td>\n",
       "      <td>8799</td>\n",
       "    </tr>\n",
       "    <tr>\n",
       "      <th>18</th>\n",
       "      <td>5876</td>\n",
       "      <td>Organic Lemon</td>\n",
       "      <td>8412</td>\n",
       "    </tr>\n",
       "    <tr>\n",
       "      <th>19</th>\n",
       "      <td>49235</td>\n",
       "      <td>Organic Half &amp; Half</td>\n",
       "      <td>8389</td>\n",
       "    </tr>\n",
       "  </tbody>\n",
       "</table>\n",
       "</div>"
      ],
      "text/plain": [
       "    product_id              product_name  order_id\n",
       "0        24852                    Banana     55763\n",
       "1        13176    Bag of Organic Bananas     44450\n",
       "2        21137      Organic Strawberries     28639\n",
       "3        21903      Organic Baby Spinach     26233\n",
       "4        47209      Organic Hass Avocado     23629\n",
       "5        47766           Organic Avocado     18743\n",
       "6        27845        Organic Whole Milk     16251\n",
       "7        47626               Large Lemon     15044\n",
       "8        27966       Organic Raspberries     14748\n",
       "9        16797              Strawberries     13945\n",
       "10       26209                     Limes     13327\n",
       "11       22935      Organic Yellow Onion     11145\n",
       "12       24964            Organic Garlic     10411\n",
       "13       45007          Organic Zucchini     10076\n",
       "14       49683            Cucumber Kirby      9538\n",
       "15       28204        Organic Fuji Apple      8989\n",
       "16        8277  Apple Honeycrisp Organic      8836\n",
       "17       39275       Organic Blueberries      8799\n",
       "18        5876             Organic Lemon      8412\n",
       "19       49235       Organic Half & Half      8389"
      ]
     },
     "metadata": {},
     "output_type": "display_data"
    }
   ],
   "source": [
    "# Display only the product_id, product_name and 'order_id'(total orders) columns, for the top 20.\n",
    "display(popular_reordered_products[['product_id', 'product_name', 'order_id']].head(20))"
   ]
  },
  {
   "cell_type": "markdown",
   "id": "92d35137",
   "metadata": {},
   "source": [
    "### What are the top 20 items that people put in their carts first? "
   ]
  },
  {
   "cell_type": "code",
   "execution_count": 54,
   "id": "0ae57274",
   "metadata": {
    "scrolled": true
   },
   "outputs": [],
   "source": [
    "# Creating a data frame to include only products that were first item in a cart.\n",
    "df_first_item = df_order_products[df_order_products['add_to_cart_order'] == 1]"
   ]
  },
  {
   "cell_type": "code",
   "execution_count": 55,
   "id": "forty-netherlands",
   "metadata": {
    "scrolled": true
   },
   "outputs": [],
   "source": [
    "# Grouping by 'product_id' and applying a count to order_id to get a count of how many order per prodcut_id.\n",
    "df_first_item_filtered = df_first_item.groupby('product_id')['order_id'].count().sort_values(ascending=False)"
   ]
  },
  {
   "cell_type": "code",
   "execution_count": 56,
   "id": "08e41ec2",
   "metadata": {},
   "outputs": [],
   "source": [
    "# Merging with df_prodcuts to add the product names to the data frame.\n",
    "df_popular_first_item = pd.merge(df_first_item_filtered, df_products, on = 'product_id')"
   ]
  },
  {
   "cell_type": "code",
   "execution_count": 57,
   "id": "1d63e0ea",
   "metadata": {
    "scrolled": false
   },
   "outputs": [
    {
     "data": {
      "text/html": [
       "<div>\n",
       "<style scoped>\n",
       "    .dataframe tbody tr th:only-of-type {\n",
       "        vertical-align: middle;\n",
       "    }\n",
       "\n",
       "    .dataframe tbody tr th {\n",
       "        vertical-align: top;\n",
       "    }\n",
       "\n",
       "    .dataframe thead th {\n",
       "        text-align: right;\n",
       "    }\n",
       "</style>\n",
       "<table border=\"1\" class=\"dataframe\">\n",
       "  <thead>\n",
       "    <tr style=\"text-align: right;\">\n",
       "      <th></th>\n",
       "      <th>product_id</th>\n",
       "      <th>product_name</th>\n",
       "      <th>order_id</th>\n",
       "    </tr>\n",
       "  </thead>\n",
       "  <tbody>\n",
       "    <tr>\n",
       "      <th>0</th>\n",
       "      <td>24852</td>\n",
       "      <td>Banana</td>\n",
       "      <td>15562</td>\n",
       "    </tr>\n",
       "    <tr>\n",
       "      <th>1</th>\n",
       "      <td>13176</td>\n",
       "      <td>Bag of Organic Bananas</td>\n",
       "      <td>11026</td>\n",
       "    </tr>\n",
       "    <tr>\n",
       "      <th>2</th>\n",
       "      <td>27845</td>\n",
       "      <td>Organic Whole Milk</td>\n",
       "      <td>4363</td>\n",
       "    </tr>\n",
       "    <tr>\n",
       "      <th>3</th>\n",
       "      <td>21137</td>\n",
       "      <td>Organic Strawberries</td>\n",
       "      <td>3946</td>\n",
       "    </tr>\n",
       "    <tr>\n",
       "      <th>4</th>\n",
       "      <td>47209</td>\n",
       "      <td>Organic Hass Avocado</td>\n",
       "      <td>3390</td>\n",
       "    </tr>\n",
       "    <tr>\n",
       "      <th>5</th>\n",
       "      <td>21903</td>\n",
       "      <td>Organic Baby Spinach</td>\n",
       "      <td>3336</td>\n",
       "    </tr>\n",
       "    <tr>\n",
       "      <th>6</th>\n",
       "      <td>47766</td>\n",
       "      <td>Organic Avocado</td>\n",
       "      <td>3044</td>\n",
       "    </tr>\n",
       "    <tr>\n",
       "      <th>7</th>\n",
       "      <td>19660</td>\n",
       "      <td>Spring Water</td>\n",
       "      <td>2336</td>\n",
       "    </tr>\n",
       "    <tr>\n",
       "      <th>8</th>\n",
       "      <td>16797</td>\n",
       "      <td>Strawberries</td>\n",
       "      <td>2308</td>\n",
       "    </tr>\n",
       "    <tr>\n",
       "      <th>9</th>\n",
       "      <td>27966</td>\n",
       "      <td>Organic Raspberries</td>\n",
       "      <td>2024</td>\n",
       "    </tr>\n",
       "    <tr>\n",
       "      <th>10</th>\n",
       "      <td>44632</td>\n",
       "      <td>Sparkling Water Grapefruit</td>\n",
       "      <td>1914</td>\n",
       "    </tr>\n",
       "    <tr>\n",
       "      <th>11</th>\n",
       "      <td>49235</td>\n",
       "      <td>Organic Half &amp; Half</td>\n",
       "      <td>1797</td>\n",
       "    </tr>\n",
       "    <tr>\n",
       "      <th>12</th>\n",
       "      <td>47626</td>\n",
       "      <td>Large Lemon</td>\n",
       "      <td>1737</td>\n",
       "    </tr>\n",
       "    <tr>\n",
       "      <th>13</th>\n",
       "      <td>196</td>\n",
       "      <td>Soda</td>\n",
       "      <td>1733</td>\n",
       "    </tr>\n",
       "    <tr>\n",
       "      <th>14</th>\n",
       "      <td>38689</td>\n",
       "      <td>Organic Reduced Fat Milk</td>\n",
       "      <td>1397</td>\n",
       "    </tr>\n",
       "    <tr>\n",
       "      <th>15</th>\n",
       "      <td>26209</td>\n",
       "      <td>Limes</td>\n",
       "      <td>1370</td>\n",
       "    </tr>\n",
       "    <tr>\n",
       "      <th>16</th>\n",
       "      <td>12341</td>\n",
       "      <td>Hass Avocados</td>\n",
       "      <td>1340</td>\n",
       "    </tr>\n",
       "    <tr>\n",
       "      <th>17</th>\n",
       "      <td>5785</td>\n",
       "      <td>Organic Reduced Fat 2% Milk</td>\n",
       "      <td>1310</td>\n",
       "    </tr>\n",
       "    <tr>\n",
       "      <th>18</th>\n",
       "      <td>27086</td>\n",
       "      <td>Half &amp; Half</td>\n",
       "      <td>1309</td>\n",
       "    </tr>\n",
       "    <tr>\n",
       "      <th>19</th>\n",
       "      <td>43352</td>\n",
       "      <td>Raspberries</td>\n",
       "      <td>1246</td>\n",
       "    </tr>\n",
       "  </tbody>\n",
       "</table>\n",
       "</div>"
      ],
      "text/plain": [
       "    product_id                 product_name  order_id\n",
       "0        24852                       Banana     15562\n",
       "1        13176       Bag of Organic Bananas     11026\n",
       "2        27845           Organic Whole Milk      4363\n",
       "3        21137         Organic Strawberries      3946\n",
       "4        47209         Organic Hass Avocado      3390\n",
       "5        21903         Organic Baby Spinach      3336\n",
       "6        47766              Organic Avocado      3044\n",
       "7        19660                 Spring Water      2336\n",
       "8        16797                 Strawberries      2308\n",
       "9        27966          Organic Raspberries      2024\n",
       "10       44632   Sparkling Water Grapefruit      1914\n",
       "11       49235          Organic Half & Half      1797\n",
       "12       47626                  Large Lemon      1737\n",
       "13         196                         Soda      1733\n",
       "14       38689     Organic Reduced Fat Milk      1397\n",
       "15       26209                        Limes      1370\n",
       "16       12341                Hass Avocados      1340\n",
       "17        5785  Organic Reduced Fat 2% Milk      1310\n",
       "18       27086                  Half & Half      1309\n",
       "19       43352                  Raspberries      1246"
      ]
     },
     "metadata": {},
     "output_type": "display_data"
    }
   ],
   "source": [
    "# Display only the product_id, product_name and 'order_id'(total orders) columns, for the top 20.\n",
    "display(df_popular_first_item[['product_id', 'product_name', 'order_id']].head(20))"
   ]
  },
  {
   "cell_type": "markdown",
   "id": "f13f4249",
   "metadata": {},
   "source": [
    "## Conculsions:\n",
    "\n",
    "Bananas are among the top 2 most popular products.\n",
    "\n",
    "Over all fruits and vegetables are very popular.\n",
    "\n",
    "Most of the top 20 are perishable household staples.\n",
    "\n",
    "However, 3 non perishable items have made the list: spring water, Saprkling Water, Grapefruit Soda."
   ]
  }
 ],
 "metadata": {
  "kernelspec": {
   "display_name": "Python 3 (ipykernel)",
   "language": "python",
   "name": "python3"
  },
  "language_info": {
   "codemirror_mode": {
    "name": "ipython",
    "version": 3
   },
   "file_extension": ".py",
   "mimetype": "text/x-python",
   "name": "python",
   "nbconvert_exporter": "python",
   "pygments_lexer": "ipython3",
   "version": "3.9.13"
  },
  "toc": {
   "base_numbering": 1,
   "nav_menu": {},
   "number_sections": true,
   "sideBar": true,
   "skip_h1_title": true,
   "title_cell": "Table of Contents",
   "title_sidebar": "Contents",
   "toc_cell": false,
   "toc_position": {},
   "toc_section_display": true,
   "toc_window_display": false
  },
  "vscode": {
   "interpreter": {
    "hash": "01a7be9ec63e704a62cefc5fe7a4756944464ee731be31632bdf42a4cb4688cf"
   }
  }
 },
 "nbformat": 4,
 "nbformat_minor": 5
}
